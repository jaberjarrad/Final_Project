{
 "cells": [
  {
   "cell_type": "code",
   "execution_count": 1,
   "metadata": {},
   "outputs": [],
   "source": [
    "#Dependancies\n",
    "\n",
    "import pandas as pd\n",
    "import numpy as np"
   ]
  },
  {
   "cell_type": "code",
   "execution_count": 2,
   "metadata": {},
   "outputs": [],
   "source": [
    "#Reading csv files\n",
    "\n",
    "demographicDf = pd.read_csv(\"resources/demographic.csv\")\n",
    "dietDf = pd.read_csv(\"resources/diet.csv\")\n",
    "examinationDf = pd.read_csv(\"resources/examination.csv\")\n",
    "labsDf = pd.read_csv(\"resources/labs.csv\")\n",
    "medicationsDf = pd.read_csv(\"resources/medications.csv\", encoding=\"ISO-8859-1\")\n",
    "questionnaireDf = pd.read_csv(\"resources/questionnaire.csv\")"
   ]
  },
  {
   "cell_type": "code",
   "execution_count": 3,
   "metadata": {},
   "outputs": [],
   "source": [
    "#Drops conditions in medicationsDf that appear less than 100 times\n",
    "\n",
    "medValues = medicationsDf[\"RXDRSD1\"].value_counts(dropna=False)\n",
    "medicationsDf = medicationsDf[medicationsDf['RXDRSD1'].isin(medValues[medValues >= 100].index)]"
   ]
  },
  {
   "cell_type": "code",
   "execution_count": 4,
   "metadata": {},
   "outputs": [],
   "source": [
    "#Replaces null values with a \"Healthy\" string\n",
    "\n",
    "medicationsDf[\"RXDRSD1\"] = medicationsDf[\"RXDRSD1\"].fillna(\"Healthy\")"
   ]
  },
  {
   "cell_type": "code",
   "execution_count": 5,
   "metadata": {},
   "outputs": [],
   "source": [
    "#Renames the columns in medicationsDf\n",
    "\n",
    "medicationsDf = medicationsDf.rename(columns=\\\n",
    "                                    {\"RXDUSE\": \"Medications_Teken_Last_30_Days\",\\\n",
    "                                      \"RXDDRUG\": \"Generic_Drug_Name\",\\\n",
    "                                      \"RXDDRGID\": \"Generic_Drug_Code\", \\\n",
    "                                      \"RXQSEEN\": \"Was_Prescription_Container_Seen_By_Interviewer\",\\\n",
    "                                      \"RXDDAYS\": \"Duration_Taken_Medications\",\\\n",
    "                                      \"RXDRSC1\": \"ICD_10_CM_Code_1\",\\\n",
    "                                      \"RXDRSC2\": \"ICD_10_CM_Code_2\",\\\n",
    "                                      \"RXDRSC3\": \"ICD_10_CM_Code_3\",\\\n",
    "                                      \"RXDRSD1\": \"ICD_10_CM_Code_1_Description\",\\\n",
    "                                      \"RXDRSD2\": \"ICD_10_CM_Code_2_Description\",\\\n",
    "                                      \"RXDRSD3\": \"ICD_10_CM_Code_3_Description\",\\\n",
    "                                      \"RXDCOUNT\":\"The_Number_Of_Prescription_Medicines_Reported\"\n",
    "                                    })"
   ]
  },
  {
   "cell_type": "code",
   "execution_count": 6,
   "metadata": {},
   "outputs": [],
   "source": [
    "#Combines medicationsDf with labsDf\n",
    "\n",
    "joinedDf = medicationsDf.join(labsDf.set_index('SEQN'), on='SEQN', how='outer')"
   ]
  },
  {
   "cell_type": "code",
   "execution_count": 7,
   "metadata": {},
   "outputs": [],
   "source": [
    "#Drops rows with duplicate SEQN values\n",
    "\n",
    "joinedDf = joinedDf.drop_duplicates(subset='SEQN',keep='last')"
   ]
  },
  {
   "cell_type": "code",
   "execution_count": null,
   "metadata": {},
   "outputs": [],
   "source": []
  }
 ],
 "metadata": {
  "kernelspec": {
   "display_name": "Python 3",
   "language": "python",
   "name": "python3"
  },
  "language_info": {
   "codemirror_mode": {
    "name": "ipython",
    "version": 3
   },
   "file_extension": ".py",
   "mimetype": "text/x-python",
   "name": "python",
   "nbconvert_exporter": "python",
   "pygments_lexer": "ipython3",
   "version": "3.6.5"
  }
 },
 "nbformat": 4,
 "nbformat_minor": 2
}
