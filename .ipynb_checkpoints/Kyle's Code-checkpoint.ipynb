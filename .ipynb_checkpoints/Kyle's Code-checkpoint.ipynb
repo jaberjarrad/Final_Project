{
 "cells": [
  {
   "cell_type": "code",
   "execution_count": 1,
   "metadata": {},
   "outputs": [],
   "source": [
    "#Dependancies\n",
    "\n",
    "import pandas as pd\n",
    "import numpy as np"
   ]
  },
  {
   "cell_type": "code",
   "execution_count": 2,
   "metadata": {},
   "outputs": [],
   "source": [
    "#Reading csv files\n",
    "\n",
    "demographicDf = pd.read_csv(\"resources/demographic.csv\")\n",
    "dietDf = pd.read_csv(\"resources/diet.csv\")\n",
    "examinationDf = pd.read_csv(\"resources/examination.csv\")\n",
    "labsDf = pd.read_csv(\"resources/labs.csv\")\n",
    "medicationsDf = pd.read_csv(\"resources/medications.csv\", encoding=\"ISO-8859-1\")\n",
    "questionnaireDf = pd.read_csv(\"resources/questionnaire.csv\")"
   ]
  },
  {
   "cell_type": "code",
   "execution_count": 3,
   "metadata": {},
   "outputs": [],
   "source": [
    "#Drops conditions in medicationsDf that appear less than 100 times\n",
    "\n",
    "medValues = medicationsDf[\"RXDRSD1\"].value_counts(dropna=False)\n",
    "medicationsDf = medicationsDf[medicationsDf['RXDRSD1'].isin(medValues[medValues >= 100].index)]"
   ]
  },
  {
   "cell_type": "code",
   "execution_count": 4,
   "metadata": {},
   "outputs": [],
   "source": [
    "#Replaces null values with a \"Healthy\" string\n",
    "\n",
    "medicationsDf[\"RXDRSD1\"] = medicationsDf[\"RXDRSD1\"].fillna(\"Healthy\")"
   ]
  },
  {
   "cell_type": "code",
   "execution_count": 5,
   "metadata": {},
   "outputs": [],
   "source": [
    "#Renames the columns in medicationsDf\n",
    "\n",
    "medicationsDf = medicationsDf.rename(columns=\\\n",
    "                                    {\"RXDUSE\": \"Medications_Teken_Last_30_Days\",\\\n",
    "                                      \"RXDDRUG\": \"Generic_Drug_Name\",\\\n",
    "                                      \"RXDDRGID\": \"Generic_Drug_Code\", \\\n",
    "                                      \"RXQSEEN\": \"Was_Prescription_Container_Seen_By_Interviewer\",\\\n",
    "                                      \"RXDDAYS\": \"Duration_Taken_Medications\",\\\n",
    "                                      \"RXDRSC1\": \"ICD_10_CM_Code_1\",\\\n",
    "                                      \"RXDRSC2\": \"ICD_10_CM_Code_2\",\\\n",
    "                                      \"RXDRSC3\": \"ICD_10_CM_Code_3\",\\\n",
    "                                      \"RXDRSD1\": \"ICD_10_CM_Code_1_Description\",\\\n",
    "                                      \"RXDRSD2\": \"ICD_10_CM_Code_2_Description\",\\\n",
    "                                      \"RXDRSD3\": \"ICD_10_CM_Code_3_Description\",\\\n",
    "                                      \"RXDCOUNT\":\"The_Number_Of_Prescription_Medicines_Reported\"\n",
    "                                    })"
   ]
  },
  {
   "cell_type": "code",
   "execution_count": 6,
   "metadata": {},
   "outputs": [],
   "source": [
    "#Combines medicationsDf with labsDf\n",
    "\n",
    "joinedDf = medicationsDf.join(labsDf.set_index('SEQN'), on='SEQN', how='outer')"
   ]
  },
  {
   "cell_type": "code",
   "execution_count": 7,
   "metadata": {},
   "outputs": [],
   "source": [
    "#Drops rows with duplicate SEQN values\n",
    "\n",
    "joinedDf = joinedDf.drop_duplicates(subset='SEQN',keep='last')"
   ]
  },
  {
   "cell_type": "code",
   "execution_count": 8,
   "metadata": {},
   "outputs": [],
   "source": [
    "joinedDf[\"ICD_10_CM_Code_1_Description\"] = joinedDf[\"ICD_10_CM_Code_1_Description\"].dropna()"
   ]
  },
  {
   "cell_type": "code",
   "execution_count": 9,
   "metadata": {},
   "outputs": [],
   "source": [
    "#Isolates the SEQN column into it's own dataframe\n",
    "labSEQN = labsDf[[\"SEQN\"]]\n",
    "\n",
    "#Sets null values to 0 and non-null values to 1\n",
    "newLab = labsDf.notnull().astype('int')\n",
    "\n",
    "#Drops the current SEQN column which only has values of 1 currently\n",
    "newLab = newLab.drop(columns=[\"SEQN\"])\n",
    "\n",
    "#Brings the isolated SEQN column back into the dataframe\n",
    "newLab = newLab.join(labSEQN, how='outer')\n",
    "\n",
    "#Moves the SEQN column to the far left of our dataframe\n",
    "columnList = list(newLab.columns.values)\n",
    "columnList.pop(columnList.index('SEQN'))\n",
    "newLab = newLab[['SEQN']+columnList]\n",
    "\n",
    "#Drops new null values\n",
    "newLab = newLab.dropna()\n",
    "\n",
    "#Changes 0 values to 2 values for future division\n",
    "for col in columnList:\n",
    "    newLab[col] = newLab[col].replace(0, 2, regex=True)\n",
    "    \n",
    "#Views how many people have taken or haven't taken each test\n",
    "for col in columnList:\n",
    "    print(newLab[col].value_counts())"
   ]
  },
  {
   "cell_type": "code",
   "execution_count": 66,
   "metadata": {},
   "outputs": [],
   "source": [
    "#Isolates the three columns we will be working with from the medicationsDf\n",
    "newMed = medicationsDf[[\"SEQN\", \"Generic_Drug_Name\", \"ICD_10_CM_Code_1_Description\"]]\n",
    "\n",
    "#Renames the third column for readability\n",
    "newMed = newMed.rename(columns={\"ICD_10_CM_Code_1_Description\": \"Condition\"})\n",
    "\n",
    "#Replaces null perscriptions with a string value of \"NONE\"\n",
    "newMed[\"Generic_Drug_Name\"] = newMed[\"Generic_Drug_Name\"].fillna(\"NONE\")\n",
    "\n",
    "#Corrects false data\n",
    "newMed[\"Generic_Drug_Name\"] = newMed[\"Generic_Drug_Name\"].replace(\"99999\", \"NONE\", regex=True)\n",
    "newMed[\"Generic_Drug_Name\"] = newMed[\"Generic_Drug_Name\"].replace(\"55555\", \"NONE\", regex=True)\n",
    "newMed[\"Generic_Drug_Name\"] = newMed[\"Generic_Drug_Name\"].replace(\"77777\", \"NONE\", regex=True)\n",
    "\n",
    "#Cleans up condition names\n",
    "newMed[\"Condition\"] = newMed[\"Condition\"].replace(\"Hypothyroidism, unspecified\", \"Hypothyroidism\", regex=True)\n",
    "newMed[\"Condition\"] = newMed[\"Condition\"].replace(\"Major depressive disorder, single episode, unspecified\", \"Major depressive disorder\", regex=True)\n",
    "newMed[\"Condition\"] = newMed[\"Condition\"].replace(\"Anxiety disorder, unspecified\", \"Anxiety disorder\", regex=True)\n",
    "newMed[\"Condition\"] = newMed[\"Condition\"].replace(\"Sleep disorder, unspecified\", \"Sleep disorder\", regex=True)\n",
    "newMed[\"Condition\"] = newMed[\"Condition\"].replace(\"Allergic rhinitis, unspecified\", \"Allergic rhinitis\", regex=True)\n",
    "newMed[\"Condition\"] = newMed[\"Condition\"].replace(\"Dorsalgia, unspecified\", \"Dorsalgia\", regex=True)\n",
    "newMed[\"Condition\"] = newMed[\"Condition\"].replace(\"Chronic obstructive pulmonary disease, unspecified\", \"Chronic obstructive pulmonary disease\", regex=True)\n",
    "newMed[\"Condition\"] = newMed[\"Condition\"].replace(\"Neuralgia and neuritis, unspecified\", \"Neuralgia and neuritis\", regex=True)\n",
    "newMed[\"Condition\"] = newMed[\"Condition\"].replace(\"Edema, unspecified\", \"Edema\", regex=True)\n",
    "newMed[\"Condition\"] = newMed[\"Condition\"].replace(\"Heart failure, unspecified\", \"Heart failure\", regex=True)\n",
    "newMed[\"Condition\"] = newMed[\"Condition\"].replace(\"Cardiac arrhythmia, unspecified\", \"Cardiac arrhythmia\", regex=True)\n",
    "newMed[\"Condition\"] = newMed[\"Condition\"].replace(\"Allergy, unspecified\", \"Allergy\", regex=True)"
   ]
  },
  {
   "cell_type": "code",
   "execution_count": null,
   "metadata": {},
   "outputs": [],
   "source": []
  }
 ],
 "metadata": {
  "kernelspec": {
   "display_name": "Python 3",
   "language": "python",
   "name": "python3"
  },
  "language_info": {
   "codemirror_mode": {
    "name": "ipython",
    "version": 3
   },
   "file_extension": ".py",
   "mimetype": "text/x-python",
   "name": "python",
   "nbconvert_exporter": "python",
   "pygments_lexer": "ipython3",
   "version": "3.6.5"
  }
 },
 "nbformat": 4,
 "nbformat_minor": 2
}
